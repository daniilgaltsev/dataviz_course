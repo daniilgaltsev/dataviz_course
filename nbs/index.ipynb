{
 "cells": [
  {
   "cell_type": "markdown",
   "metadata": {},
   "source": [
    "# Dataviz Course Project\n",
    "\n",
    "> A project for a dataviz course"
   ]
  },
  {
   "cell_type": "markdown",
   "metadata": {},
   "source": [
    "This project contains a series of notebooks which go over the process of preparing data visualization and improving them after evaluation. The general process can be described like this:\n",
    "\n",
    "- Learning the basics of Altair\n",
    "- Exploring the data to come up with possible interesting insights\n",
    "- Preparing the initial visualization for evalution\n",
    "- Performing the evaluation and improving the visualization based on the received feedback\n",
    "\n",
    "The overview of the project and conclusions are written in the final notebook."
   ]
  },
  {
   "cell_type": "code",
   "execution_count": null,
   "metadata": {},
   "outputs": [],
   "source": []
  }
 ],
 "metadata": {
  "kernelspec": {
   "display_name": "python3",
   "language": "python",
   "name": "python3"
  }
 },
 "nbformat": 4,
 "nbformat_minor": 4
}
